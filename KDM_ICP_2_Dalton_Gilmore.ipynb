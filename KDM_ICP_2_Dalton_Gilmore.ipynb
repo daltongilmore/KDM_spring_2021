{
  "nbformat": 4,
  "nbformat_minor": 0,
  "metadata": {
    "colab": {
      "name": "KDM ICP 2 Dalton Gilmore",
      "provenance": [],
      "collapsed_sections": [
        "BdQDBdnlYDbZ"
      ],
      "authorship_tag": "ABX9TyOVxT9/gAighE0tsR6+C5yM",
      "include_colab_link": true
    },
    "kernelspec": {
      "name": "python3",
      "display_name": "Python 3"
    }
  },
  "cells": [
    {
      "cell_type": "markdown",
      "metadata": {
        "id": "view-in-github",
        "colab_type": "text"
      },
      "source": [
        "<a href=\"https://colab.research.google.com/github/daltongilmore/KDM_spring_2021/blob/master/KDM_ICP_2_Dalton_Gilmore.ipynb\" target=\"_parent\"><img src=\"https://colab.research.google.com/assets/colab-badge.svg\" alt=\"Open In Colab\"/></a>"
      ]
    },
    {
      "cell_type": "markdown",
      "metadata": {
        "id": "GDBXnAp_W6LM"
      },
      "source": [
        "#Project Setup"
      ]
    },
    {
      "cell_type": "markdown",
      "metadata": {
        "id": "7IlStPunS2ib"
      },
      "source": [
        "Import the necessary libraries\r\n",
        "\r\n"
      ]
    },
    {
      "cell_type": "code",
      "metadata": {
        "colab": {
          "base_uri": "https://localhost:8080/"
        },
        "id": "nGlEuyXKSqYG",
        "outputId": "a3f74c8a-bd70-4c19-d9b5-7659c9880e5b"
      },
      "source": [
        "%tensorflow_version 1.x\r\n",
        "import nltk\r\n",
        "nltk.download('punkt')\r\n",
        "import pandas as pd\r\n",
        "from nltk.tokenize import sent_tokenize\r\n",
        "from nltk.tokenize import word_tokenize\r\n",
        "from nltk.probability import FreqDist\r\n",
        "import matplotlib.pyplot as plt\r\n",
        "nltk.download('averaged_perceptron_tagger')\r\n",
        "nltk.download('wordnet')\r\n",
        "from nltk.corpus import wordnet\r\n",
        "from nltk.stem import WordNetLemmatizer\r\n",
        "nltk.download('maxent_ne_chunker')\r\n",
        "nltk.download('words')\r\n",
        "nltk.download('treebank')\r\n",
        "\r\n",
        "#!pip install neuralcoref\r\n",
        "#!pip install spacy==2.1.0\r\n",
        "#!python3 -m spacy download en\r\n",
        "\r\n",
        "import spacy\r\n",
        "\r\n",
        "#!pip install benepar\r\n",
        "import benepar\r\n",
        "from benepar.spacy_plugin import BeneparComponent\r\n",
        "benepar.download('benepar_en')"
      ],
      "execution_count": 18,
      "outputs": [
        {
          "output_type": "stream",
          "text": [
            "[nltk_data] Downloading package punkt to /root/nltk_data...\n",
            "[nltk_data]   Package punkt is already up-to-date!\n",
            "[nltk_data] Downloading package averaged_perceptron_tagger to\n",
            "[nltk_data]     /root/nltk_data...\n",
            "[nltk_data]   Package averaged_perceptron_tagger is already up-to-\n",
            "[nltk_data]       date!\n",
            "[nltk_data] Downloading package wordnet to /root/nltk_data...\n",
            "[nltk_data]   Package wordnet is already up-to-date!\n",
            "[nltk_data] Downloading package maxent_ne_chunker to\n",
            "[nltk_data]     /root/nltk_data...\n",
            "[nltk_data]   Package maxent_ne_chunker is already up-to-date!\n",
            "[nltk_data] Downloading package words to /root/nltk_data...\n",
            "[nltk_data]   Package words is already up-to-date!\n",
            "[nltk_data] Downloading package treebank to /root/nltk_data...\n",
            "[nltk_data]   Package treebank is already up-to-date!\n",
            "[nltk_data] Downloading package benepar_en to /root/nltk_data...\n",
            "[nltk_data]   Package benepar_en is already up-to-date!\n"
          ],
          "name": "stdout"
        },
        {
          "output_type": "execute_result",
          "data": {
            "text/plain": [
              "True"
            ]
          },
          "metadata": {
            "tags": []
          },
          "execution_count": 18
        }
      ]
    },
    {
      "cell_type": "markdown",
      "metadata": {
        "id": "DCTwuQhbU_0N"
      },
      "source": [
        "Set up the text to be analyzed (could also use google drive and pandas)"
      ]
    },
    {
      "cell_type": "code",
      "metadata": {
        "colab": {
          "base_uri": "https://localhost:8080/"
        },
        "id": "Wnp3rm9BVeAz",
        "outputId": "21ca5a03-849f-498d-aa0f-f6162c70ee3b"
      },
      "source": [
        "text = \"Xi Jinping is a Chinese politician who has served as General Secretary of the Chinese Communist Party (CCP) and Chairman of the Central Military Commission (CMC) since 2012, and President of the People's Republic of China (PRC) since 2013. He has been the paramount leader of China, the most prominent political leader in the country, since 2012. The son of Chinese Communist veteran Xi Zhongxun, he was exiled to rural Yanchuan County as a teenager following his father's purge during the Cultural Revolution and lived in a cave in the village of Liangjiahe, where he joined the CCP and worked as the party secretary.\"\r\n",
        "print(text)"
      ],
      "execution_count": 19,
      "outputs": [
        {
          "output_type": "stream",
          "text": [
            "Xi Jinping is a Chinese politician who has served as General Secretary of the Chinese Communist Party (CCP) and Chairman of the Central Military Commission (CMC) since 2012, and President of the People's Republic of China (PRC) since 2013. He has been the paramount leader of China, the most prominent political leader in the country, since 2012. The son of Chinese Communist veteran Xi Zhongxun, he was exiled to rural Yanchuan County as a teenager following his father's purge during the Cultural Revolution and lived in a cave in the village of Liangjiahe, where he joined the CCP and worked as the party secretary.\n"
          ],
          "name": "stdout"
        }
      ]
    },
    {
      "cell_type": "markdown",
      "metadata": {
        "id": "zY9jZf5lWOoL"
      },
      "source": [
        "#Data Analysis Tasks\r\n"
      ]
    },
    {
      "cell_type": "markdown",
      "metadata": {
        "id": "jRYYurqSWZ5k"
      },
      "source": [
        "##Task 1: Part-of-Speech (POS) Tagger"
      ]
    },
    {
      "cell_type": "markdown",
      "metadata": {
        "id": "FPWrOmdbWyDV"
      },
      "source": [
        "Break the text into words"
      ]
    },
    {
      "cell_type": "code",
      "metadata": {
        "colab": {
          "base_uri": "https://localhost:8080/"
        },
        "id": "_ngR5M_8WtKq",
        "outputId": "8385d41d-8a8a-48cf-ae4d-12205d3963b7"
      },
      "source": [
        "word_text = word_tokenize(text)\r\n",
        "print(word_text)"
      ],
      "execution_count": 20,
      "outputs": [
        {
          "output_type": "stream",
          "text": [
            "['Xi', 'Jinping', 'is', 'a', 'Chinese', 'politician', 'who', 'has', 'served', 'as', 'General', 'Secretary', 'of', 'the', 'Chinese', 'Communist', 'Party', '(', 'CCP', ')', 'and', 'Chairman', 'of', 'the', 'Central', 'Military', 'Commission', '(', 'CMC', ')', 'since', '2012', ',', 'and', 'President', 'of', 'the', 'People', \"'s\", 'Republic', 'of', 'China', '(', 'PRC', ')', 'since', '2013', '.', 'He', 'has', 'been', 'the', 'paramount', 'leader', 'of', 'China', ',', 'the', 'most', 'prominent', 'political', 'leader', 'in', 'the', 'country', ',', 'since', '2012', '.', 'The', 'son', 'of', 'Chinese', 'Communist', 'veteran', 'Xi', 'Zhongxun', ',', 'he', 'was', 'exiled', 'to', 'rural', 'Yanchuan', 'County', 'as', 'a', 'teenager', 'following', 'his', 'father', \"'s\", 'purge', 'during', 'the', 'Cultural', 'Revolution', 'and', 'lived', 'in', 'a', 'cave', 'in', 'the', 'village', 'of', 'Liangjiahe', ',', 'where', 'he', 'joined', 'the', 'CCP', 'and', 'worked', 'as', 'the', 'party', 'secretary', '.']\n"
          ],
          "name": "stdout"
        }
      ]
    },
    {
      "cell_type": "markdown",
      "metadata": {
        "id": "qULBCd1CXRpu"
      },
      "source": [
        "Use NLTK to tag each word with its POS"
      ]
    },
    {
      "cell_type": "code",
      "metadata": {
        "colab": {
          "base_uri": "https://localhost:8080/"
        },
        "id": "Qa1jvGN0XVuE",
        "outputId": "3babc3b6-0166-4359-d952-699322fba6b6"
      },
      "source": [
        "nltk.pos_tag(word_text)"
      ],
      "execution_count": 21,
      "outputs": [
        {
          "output_type": "execute_result",
          "data": {
            "text/plain": [
              "[('Xi', 'NN'),\n",
              " ('Jinping', 'NNP'),\n",
              " ('is', 'VBZ'),\n",
              " ('a', 'DT'),\n",
              " ('Chinese', 'JJ'),\n",
              " ('politician', 'NN'),\n",
              " ('who', 'WP'),\n",
              " ('has', 'VBZ'),\n",
              " ('served', 'VBN'),\n",
              " ('as', 'IN'),\n",
              " ('General', 'NNP'),\n",
              " ('Secretary', 'NNP'),\n",
              " ('of', 'IN'),\n",
              " ('the', 'DT'),\n",
              " ('Chinese', 'NNP'),\n",
              " ('Communist', 'NNP'),\n",
              " ('Party', 'NNP'),\n",
              " ('(', '('),\n",
              " ('CCP', 'NNP'),\n",
              " (')', ')'),\n",
              " ('and', 'CC'),\n",
              " ('Chairman', 'NNP'),\n",
              " ('of', 'IN'),\n",
              " ('the', 'DT'),\n",
              " ('Central', 'NNP'),\n",
              " ('Military', 'NNP'),\n",
              " ('Commission', 'NNP'),\n",
              " ('(', '('),\n",
              " ('CMC', 'NNP'),\n",
              " (')', ')'),\n",
              " ('since', 'IN'),\n",
              " ('2012', 'CD'),\n",
              " (',', ','),\n",
              " ('and', 'CC'),\n",
              " ('President', 'NNP'),\n",
              " ('of', 'IN'),\n",
              " ('the', 'DT'),\n",
              " ('People', 'NNP'),\n",
              " (\"'s\", 'POS'),\n",
              " ('Republic', 'NNP'),\n",
              " ('of', 'IN'),\n",
              " ('China', 'NNP'),\n",
              " ('(', '('),\n",
              " ('PRC', 'NNP'),\n",
              " (')', ')'),\n",
              " ('since', 'IN'),\n",
              " ('2013', 'CD'),\n",
              " ('.', '.'),\n",
              " ('He', 'PRP'),\n",
              " ('has', 'VBZ'),\n",
              " ('been', 'VBN'),\n",
              " ('the', 'DT'),\n",
              " ('paramount', 'JJ'),\n",
              " ('leader', 'NN'),\n",
              " ('of', 'IN'),\n",
              " ('China', 'NNP'),\n",
              " (',', ','),\n",
              " ('the', 'DT'),\n",
              " ('most', 'RBS'),\n",
              " ('prominent', 'JJ'),\n",
              " ('political', 'JJ'),\n",
              " ('leader', 'NN'),\n",
              " ('in', 'IN'),\n",
              " ('the', 'DT'),\n",
              " ('country', 'NN'),\n",
              " (',', ','),\n",
              " ('since', 'IN'),\n",
              " ('2012', 'CD'),\n",
              " ('.', '.'),\n",
              " ('The', 'DT'),\n",
              " ('son', 'NN'),\n",
              " ('of', 'IN'),\n",
              " ('Chinese', 'JJ'),\n",
              " ('Communist', 'NNP'),\n",
              " ('veteran', 'NN'),\n",
              " ('Xi', 'NNP'),\n",
              " ('Zhongxun', 'NNP'),\n",
              " (',', ','),\n",
              " ('he', 'PRP'),\n",
              " ('was', 'VBD'),\n",
              " ('exiled', 'VBN'),\n",
              " ('to', 'TO'),\n",
              " ('rural', 'JJ'),\n",
              " ('Yanchuan', 'NNP'),\n",
              " ('County', 'NNP'),\n",
              " ('as', 'IN'),\n",
              " ('a', 'DT'),\n",
              " ('teenager', 'NN'),\n",
              " ('following', 'VBG'),\n",
              " ('his', 'PRP$'),\n",
              " ('father', 'NN'),\n",
              " (\"'s\", 'POS'),\n",
              " ('purge', 'NN'),\n",
              " ('during', 'IN'),\n",
              " ('the', 'DT'),\n",
              " ('Cultural', 'JJ'),\n",
              " ('Revolution', 'NNP'),\n",
              " ('and', 'CC'),\n",
              " ('lived', 'VBN'),\n",
              " ('in', 'IN'),\n",
              " ('a', 'DT'),\n",
              " ('cave', 'NN'),\n",
              " ('in', 'IN'),\n",
              " ('the', 'DT'),\n",
              " ('village', 'NN'),\n",
              " ('of', 'IN'),\n",
              " ('Liangjiahe', 'NNP'),\n",
              " (',', ','),\n",
              " ('where', 'WRB'),\n",
              " ('he', 'PRP'),\n",
              " ('joined', 'VBD'),\n",
              " ('the', 'DT'),\n",
              " ('CCP', 'NNP'),\n",
              " ('and', 'CC'),\n",
              " ('worked', 'VBD'),\n",
              " ('as', 'IN'),\n",
              " ('the', 'DT'),\n",
              " ('party', 'NN'),\n",
              " ('secretary', 'NN'),\n",
              " ('.', '.')]"
            ]
          },
          "metadata": {
            "tags": []
          },
          "execution_count": 21
        }
      ]
    },
    {
      "cell_type": "markdown",
      "metadata": {
        "id": "B8ccYFiEfK8j"
      },
      "source": [
        "Another way of doing this, except all at once"
      ]
    },
    {
      "cell_type": "code",
      "metadata": {
        "colab": {
          "base_uri": "https://localhost:8080/"
        },
        "id": "RUApuXhFfKNR",
        "outputId": "0c4de593-57ea-445a-9392-980afa871cfe"
      },
      "source": [
        "words_pos = nltk.pos_tag(nltk.word_tokenize(text))\r\n",
        "print(words_pos)"
      ],
      "execution_count": 22,
      "outputs": [
        {
          "output_type": "stream",
          "text": [
            "[('Xi', 'NN'), ('Jinping', 'NNP'), ('is', 'VBZ'), ('a', 'DT'), ('Chinese', 'JJ'), ('politician', 'NN'), ('who', 'WP'), ('has', 'VBZ'), ('served', 'VBN'), ('as', 'IN'), ('General', 'NNP'), ('Secretary', 'NNP'), ('of', 'IN'), ('the', 'DT'), ('Chinese', 'NNP'), ('Communist', 'NNP'), ('Party', 'NNP'), ('(', '('), ('CCP', 'NNP'), (')', ')'), ('and', 'CC'), ('Chairman', 'NNP'), ('of', 'IN'), ('the', 'DT'), ('Central', 'NNP'), ('Military', 'NNP'), ('Commission', 'NNP'), ('(', '('), ('CMC', 'NNP'), (')', ')'), ('since', 'IN'), ('2012', 'CD'), (',', ','), ('and', 'CC'), ('President', 'NNP'), ('of', 'IN'), ('the', 'DT'), ('People', 'NNP'), (\"'s\", 'POS'), ('Republic', 'NNP'), ('of', 'IN'), ('China', 'NNP'), ('(', '('), ('PRC', 'NNP'), (')', ')'), ('since', 'IN'), ('2013', 'CD'), ('.', '.'), ('He', 'PRP'), ('has', 'VBZ'), ('been', 'VBN'), ('the', 'DT'), ('paramount', 'JJ'), ('leader', 'NN'), ('of', 'IN'), ('China', 'NNP'), (',', ','), ('the', 'DT'), ('most', 'RBS'), ('prominent', 'JJ'), ('political', 'JJ'), ('leader', 'NN'), ('in', 'IN'), ('the', 'DT'), ('country', 'NN'), (',', ','), ('since', 'IN'), ('2012', 'CD'), ('.', '.'), ('The', 'DT'), ('son', 'NN'), ('of', 'IN'), ('Chinese', 'JJ'), ('Communist', 'NNP'), ('veteran', 'NN'), ('Xi', 'NNP'), ('Zhongxun', 'NNP'), (',', ','), ('he', 'PRP'), ('was', 'VBD'), ('exiled', 'VBN'), ('to', 'TO'), ('rural', 'JJ'), ('Yanchuan', 'NNP'), ('County', 'NNP'), ('as', 'IN'), ('a', 'DT'), ('teenager', 'NN'), ('following', 'VBG'), ('his', 'PRP$'), ('father', 'NN'), (\"'s\", 'POS'), ('purge', 'NN'), ('during', 'IN'), ('the', 'DT'), ('Cultural', 'JJ'), ('Revolution', 'NNP'), ('and', 'CC'), ('lived', 'VBN'), ('in', 'IN'), ('a', 'DT'), ('cave', 'NN'), ('in', 'IN'), ('the', 'DT'), ('village', 'NN'), ('of', 'IN'), ('Liangjiahe', 'NNP'), (',', ','), ('where', 'WRB'), ('he', 'PRP'), ('joined', 'VBD'), ('the', 'DT'), ('CCP', 'NNP'), ('and', 'CC'), ('worked', 'VBD'), ('as', 'IN'), ('the', 'DT'), ('party', 'NN'), ('secretary', 'NN'), ('.', '.')]\n"
          ],
          "name": "stdout"
        }
      ]
    },
    {
      "cell_type": "markdown",
      "metadata": {
        "id": "BdQDBdnlYDbZ"
      },
      "source": [
        "##Task 2: Named Entity Recognizer (NER)"
      ]
    },
    {
      "cell_type": "markdown",
      "metadata": {
        "id": "Qi_yGTEhjoWA"
      },
      "source": [
        "Break the text into words"
      ]
    },
    {
      "cell_type": "code",
      "metadata": {
        "colab": {
          "base_uri": "https://localhost:8080/"
        },
        "id": "U9GD0R6AjpXc",
        "outputId": "5a0f934f-c3b8-4346-c566-3e06a0dbcedb"
      },
      "source": [
        "word_text = word_tokenize(text)\r\n",
        "print(word_text)"
      ],
      "execution_count": 23,
      "outputs": [
        {
          "output_type": "stream",
          "text": [
            "['Xi', 'Jinping', 'is', 'a', 'Chinese', 'politician', 'who', 'has', 'served', 'as', 'General', 'Secretary', 'of', 'the', 'Chinese', 'Communist', 'Party', '(', 'CCP', ')', 'and', 'Chairman', 'of', 'the', 'Central', 'Military', 'Commission', '(', 'CMC', ')', 'since', '2012', ',', 'and', 'President', 'of', 'the', 'People', \"'s\", 'Republic', 'of', 'China', '(', 'PRC', ')', 'since', '2013', '.', 'He', 'has', 'been', 'the', 'paramount', 'leader', 'of', 'China', ',', 'the', 'most', 'prominent', 'political', 'leader', 'in', 'the', 'country', ',', 'since', '2012', '.', 'The', 'son', 'of', 'Chinese', 'Communist', 'veteran', 'Xi', 'Zhongxun', ',', 'he', 'was', 'exiled', 'to', 'rural', 'Yanchuan', 'County', 'as', 'a', 'teenager', 'following', 'his', 'father', \"'s\", 'purge', 'during', 'the', 'Cultural', 'Revolution', 'and', 'lived', 'in', 'a', 'cave', 'in', 'the', 'village', 'of', 'Liangjiahe', ',', 'where', 'he', 'joined', 'the', 'CCP', 'and', 'worked', 'as', 'the', 'party', 'secretary', '.']\n"
          ],
          "name": "stdout"
        }
      ]
    },
    {
      "cell_type": "markdown",
      "metadata": {
        "id": "CqNF1H7XjlNb"
      },
      "source": [
        "Tag each word with its POS"
      ]
    },
    {
      "cell_type": "code",
      "metadata": {
        "colab": {
          "base_uri": "https://localhost:8080/"
        },
        "id": "VA7oDhMejrNt",
        "outputId": "5313c2ce-96e9-488c-a2c3-4c0a1470b8ef"
      },
      "source": [
        "words_pos = nltk.pos_tag(nltk.word_tokenize(text))\r\n",
        "print(words_pos)"
      ],
      "execution_count": 24,
      "outputs": [
        {
          "output_type": "stream",
          "text": [
            "[('Xi', 'NN'), ('Jinping', 'NNP'), ('is', 'VBZ'), ('a', 'DT'), ('Chinese', 'JJ'), ('politician', 'NN'), ('who', 'WP'), ('has', 'VBZ'), ('served', 'VBN'), ('as', 'IN'), ('General', 'NNP'), ('Secretary', 'NNP'), ('of', 'IN'), ('the', 'DT'), ('Chinese', 'NNP'), ('Communist', 'NNP'), ('Party', 'NNP'), ('(', '('), ('CCP', 'NNP'), (')', ')'), ('and', 'CC'), ('Chairman', 'NNP'), ('of', 'IN'), ('the', 'DT'), ('Central', 'NNP'), ('Military', 'NNP'), ('Commission', 'NNP'), ('(', '('), ('CMC', 'NNP'), (')', ')'), ('since', 'IN'), ('2012', 'CD'), (',', ','), ('and', 'CC'), ('President', 'NNP'), ('of', 'IN'), ('the', 'DT'), ('People', 'NNP'), (\"'s\", 'POS'), ('Republic', 'NNP'), ('of', 'IN'), ('China', 'NNP'), ('(', '('), ('PRC', 'NNP'), (')', ')'), ('since', 'IN'), ('2013', 'CD'), ('.', '.'), ('He', 'PRP'), ('has', 'VBZ'), ('been', 'VBN'), ('the', 'DT'), ('paramount', 'JJ'), ('leader', 'NN'), ('of', 'IN'), ('China', 'NNP'), (',', ','), ('the', 'DT'), ('most', 'RBS'), ('prominent', 'JJ'), ('political', 'JJ'), ('leader', 'NN'), ('in', 'IN'), ('the', 'DT'), ('country', 'NN'), (',', ','), ('since', 'IN'), ('2012', 'CD'), ('.', '.'), ('The', 'DT'), ('son', 'NN'), ('of', 'IN'), ('Chinese', 'JJ'), ('Communist', 'NNP'), ('veteran', 'NN'), ('Xi', 'NNP'), ('Zhongxun', 'NNP'), (',', ','), ('he', 'PRP'), ('was', 'VBD'), ('exiled', 'VBN'), ('to', 'TO'), ('rural', 'JJ'), ('Yanchuan', 'NNP'), ('County', 'NNP'), ('as', 'IN'), ('a', 'DT'), ('teenager', 'NN'), ('following', 'VBG'), ('his', 'PRP$'), ('father', 'NN'), (\"'s\", 'POS'), ('purge', 'NN'), ('during', 'IN'), ('the', 'DT'), ('Cultural', 'JJ'), ('Revolution', 'NNP'), ('and', 'CC'), ('lived', 'VBN'), ('in', 'IN'), ('a', 'DT'), ('cave', 'NN'), ('in', 'IN'), ('the', 'DT'), ('village', 'NN'), ('of', 'IN'), ('Liangjiahe', 'NNP'), (',', ','), ('where', 'WRB'), ('he', 'PRP'), ('joined', 'VBD'), ('the', 'DT'), ('CCP', 'NNP'), ('and', 'CC'), ('worked', 'VBD'), ('as', 'IN'), ('the', 'DT'), ('party', 'NN'), ('secretary', 'NN'), ('.', '.')]\n"
          ],
          "name": "stdout"
        }
      ]
    },
    {
      "cell_type": "markdown",
      "metadata": {
        "id": "0ns_3LpYknpp"
      },
      "source": [
        "Recgonize named entities using NLTK function"
      ]
    },
    {
      "cell_type": "code",
      "metadata": {
        "colab": {
          "base_uri": "https://localhost:8080/"
        },
        "id": "p7Tlorj_koJL",
        "outputId": "8da06447-3a04-4a12-9966-b12e888a120a"
      },
      "source": [
        "words_ner = nltk.ne_chunk(words_pos)\r\n",
        "print(words_ner)"
      ],
      "execution_count": 25,
      "outputs": [
        {
          "output_type": "stream",
          "text": [
            "(S\n",
            "  Xi/NN\n",
            "  Jinping/NNP\n",
            "  is/VBZ\n",
            "  a/DT\n",
            "  (GPE Chinese/JJ)\n",
            "  politician/NN\n",
            "  who/WP\n",
            "  has/VBZ\n",
            "  served/VBN\n",
            "  as/IN\n",
            "  (ORGANIZATION General/NNP)\n",
            "  Secretary/NNP\n",
            "  of/IN\n",
            "  the/DT\n",
            "  (ORGANIZATION Chinese/NNP)\n",
            "  (ORGANIZATION Communist/NNP Party/NNP)\n",
            "  (/(\n",
            "  (ORGANIZATION CCP/NNP)\n",
            "  )/)\n",
            "  and/CC\n",
            "  Chairman/NNP\n",
            "  of/IN\n",
            "  the/DT\n",
            "  (ORGANIZATION Central/NNP)\n",
            "  Military/NNP\n",
            "  Commission/NNP\n",
            "  (/(\n",
            "  (ORGANIZATION CMC/NNP)\n",
            "  )/)\n",
            "  since/IN\n",
            "  2012/CD\n",
            "  ,/,\n",
            "  and/CC\n",
            "  President/NNP\n",
            "  of/IN\n",
            "  the/DT\n",
            "  (ORGANIZATION People/NNP)\n",
            "  's/POS\n",
            "  (ORGANIZATION Republic/NNP)\n",
            "  of/IN\n",
            "  (GPE China/NNP)\n",
            "  (/(\n",
            "  (ORGANIZATION PRC/NNP)\n",
            "  )/)\n",
            "  since/IN\n",
            "  2013/CD\n",
            "  ./.\n",
            "  He/PRP\n",
            "  has/VBZ\n",
            "  been/VBN\n",
            "  the/DT\n",
            "  paramount/JJ\n",
            "  leader/NN\n",
            "  of/IN\n",
            "  (GPE China/NNP)\n",
            "  ,/,\n",
            "  the/DT\n",
            "  most/RBS\n",
            "  prominent/JJ\n",
            "  political/JJ\n",
            "  leader/NN\n",
            "  in/IN\n",
            "  the/DT\n",
            "  country/NN\n",
            "  ,/,\n",
            "  since/IN\n",
            "  2012/CD\n",
            "  ./.\n",
            "  The/DT\n",
            "  son/NN\n",
            "  of/IN\n",
            "  (GPE Chinese/JJ)\n",
            "  (ORGANIZATION Communist/NNP)\n",
            "  veteran/NN\n",
            "  Xi/NNP\n",
            "  Zhongxun/NNP\n",
            "  ,/,\n",
            "  he/PRP\n",
            "  was/VBD\n",
            "  exiled/VBN\n",
            "  to/TO\n",
            "  rural/JJ\n",
            "  (ORGANIZATION Yanchuan/NNP County/NNP)\n",
            "  as/IN\n",
            "  a/DT\n",
            "  teenager/NN\n",
            "  following/VBG\n",
            "  his/PRP$\n",
            "  father/NN\n",
            "  's/POS\n",
            "  purge/NN\n",
            "  during/IN\n",
            "  the/DT\n",
            "  Cultural/JJ\n",
            "  Revolution/NNP\n",
            "  and/CC\n",
            "  lived/VBN\n",
            "  in/IN\n",
            "  a/DT\n",
            "  cave/NN\n",
            "  in/IN\n",
            "  the/DT\n",
            "  village/NN\n",
            "  of/IN\n",
            "  (GPE Liangjiahe/NNP)\n",
            "  ,/,\n",
            "  where/WRB\n",
            "  he/PRP\n",
            "  joined/VBD\n",
            "  the/DT\n",
            "  (ORGANIZATION CCP/NNP)\n",
            "  and/CC\n",
            "  worked/VBD\n",
            "  as/IN\n",
            "  the/DT\n",
            "  party/NN\n",
            "  secretary/NN\n",
            "  ./.)\n"
          ],
          "name": "stdout"
        }
      ]
    },
    {
      "cell_type": "markdown",
      "metadata": {
        "id": "1xPCj0rwYH9A"
      },
      "source": [
        "##Task 3: Co-reference Resolution"
      ]
    },
    {
      "cell_type": "markdown",
      "metadata": {
        "id": "Fpy-QrFLAwGt"
      },
      "source": [
        "Load spaCy and neural coreference library"
      ]
    },
    {
      "cell_type": "code",
      "metadata": {
        "colab": {
          "base_uri": "https://localhost:8080/"
        },
        "id": "blWZXzOc7rR6",
        "outputId": "000a7232-efa8-4052-a1f2-d05a1a99a3f6"
      },
      "source": [
        "nlp = spacy.load('en')\r\n",
        "import re\r\n",
        "from nltk.tokenize import sent_tokenize\r\n",
        "import neuralcoref\r\n",
        "neuralcoref.add_to_pipe(nlp,greedyness=0.5,max_dist=50,blacklist=False)"
      ],
      "execution_count": 29,
      "outputs": [
        {
          "output_type": "execute_result",
          "data": {
            "text/plain": [
              "<spacy.lang.en.English at 0x7f43302cfb00>"
            ]
          },
          "metadata": {
            "tags": []
          },
          "execution_count": 29
        }
      ]
    },
    {
      "cell_type": "markdown",
      "metadata": {
        "id": "YNbX7tIuA3-d"
      },
      "source": [
        "Use spaCy to elicit clusters"
      ]
    },
    {
      "cell_type": "code",
      "metadata": {
        "colab": {
          "base_uri": "https://localhost:8080/"
        },
        "id": "uhPuwkvy9bEc",
        "outputId": "8ef85ed8-22ca-4cbb-d59f-254293a98bd0"
      },
      "source": [
        "text = str(text)\r\n",
        "doc = nlp(text)\r\n",
        "clusters = doc._.coref_clusters\r\n",
        "print(\"clusters: \",clusters)"
      ],
      "execution_count": 30,
      "outputs": [
        {
          "output_type": "stream",
          "text": [
            "clusters:  [Xi Jinping: [Xi Jinping, He, he, his, he], China: [China, China, the country]]\n"
          ],
          "name": "stdout"
        }
      ]
    },
    {
      "cell_type": "markdown",
      "metadata": {
        "id": "qdYZtkXJBeGE"
      },
      "source": [
        "Replace references with the subject of the respective cluster"
      ]
    },
    {
      "cell_type": "code",
      "metadata": {
        "colab": {
          "base_uri": "https://localhost:8080/"
        },
        "id": "yAxzcXS7BX_t",
        "outputId": "86723b78-7ed3-4a51-eee9-32d51e262bb4"
      },
      "source": [
        "resolved_coref = doc._.coref_resolved\r\n",
        "print(resolved_coref)"
      ],
      "execution_count": 31,
      "outputs": [
        {
          "output_type": "stream",
          "text": [
            "Xi Jinping is a Chinese politician who has served as General Secretary of the Chinese Communist Party (CCP) and Chairman of the Central Military Commission (CMC) since 2012, and President of the People's Republic of China (PRC) since 2013. Xi Jinping has been the paramount leader of China, the most prominent political leader in China, since 2012. The son of Chinese Communist veteran Xi Zhongxun, Xi Jinping was exiled to rural Yanchuan County as a teenager following Xi Jinping father's purge during the Cultural Revolution and lived in a cave in the village of Liangjiahe, where Xi Jinping joined the CCP and worked as the party secretary.\n"
          ],
          "name": "stdout"
        }
      ]
    },
    {
      "cell_type": "markdown",
      "metadata": {
        "id": "rib86Es8YLbC"
      },
      "source": [
        "##Task 4: Lemmatization"
      ]
    },
    {
      "cell_type": "markdown",
      "metadata": {
        "id": "H8921Um8iQ6-"
      },
      "source": [
        "Define a function that will map each word with its POS for full text lemmatization"
      ]
    },
    {
      "cell_type": "code",
      "metadata": {
        "id": "SYD1X2zEbVc2"
      },
      "source": [
        "def get_wordnet_pos(word):\r\n",
        "    tag = nltk.pos_tag([word])[0][1][0].upper()\r\n",
        "    tag_dict = {\"J\": wordnet.ADJ,\r\n",
        "                \"N\": wordnet.NOUN,\r\n",
        "                \"V\": wordnet.VERB,\r\n",
        "                \"R\": wordnet.ADV}\r\n",
        "    return tag_dict.get(tag, wordnet.NOUN)"
      ],
      "execution_count": 32,
      "outputs": []
    },
    {
      "cell_type": "markdown",
      "metadata": {
        "id": "iKd2ME-Ui3EF"
      },
      "source": [
        "Define the lemmatizer"
      ]
    },
    {
      "cell_type": "code",
      "metadata": {
        "id": "4XNZmmmvbYig"
      },
      "source": [
        "lemm = WordNetLemmatizer()"
      ],
      "execution_count": 33,
      "outputs": []
    },
    {
      "cell_type": "markdown",
      "metadata": {
        "id": "IMRgdfz0i4xh"
      },
      "source": [
        "Lemmatize the text using iteration with the function above"
      ]
    },
    {
      "cell_type": "code",
      "metadata": {
        "colab": {
          "base_uri": "https://localhost:8080/"
        },
        "id": "5wv4e4Iqbd7F",
        "outputId": "3161cfac-58d2-4e3b-cd2f-b69ca7ca259e"
      },
      "source": [
        "text_lemmatized = [lemm.lemmatize(w, get_wordnet_pos(w)) for w in nltk.word_tokenize(text)]\r\n",
        "print(text_lemmatized)"
      ],
      "execution_count": 34,
      "outputs": [
        {
          "output_type": "stream",
          "text": [
            "['Xi', 'Jinping', 'be', 'a', 'Chinese', 'politician', 'who', 'have', 'serve', 'a', 'General', 'Secretary', 'of', 'the', 'Chinese', 'Communist', 'Party', '(', 'CCP', ')', 'and', 'Chairman', 'of', 'the', 'Central', 'Military', 'Commission', '(', 'CMC', ')', 'since', '2012', ',', 'and', 'President', 'of', 'the', 'People', \"'s\", 'Republic', 'of', 'China', '(', 'PRC', ')', 'since', '2013', '.', 'He', 'have', 'be', 'the', 'paramount', 'leader', 'of', 'China', ',', 'the', 'most', 'prominent', 'political', 'leader', 'in', 'the', 'country', ',', 'since', '2012', '.', 'The', 'son', 'of', 'Chinese', 'Communist', 'veteran', 'Xi', 'Zhongxun', ',', 'he', 'be', 'exile', 'to', 'rural', 'Yanchuan', 'County', 'a', 'a', 'teenager', 'follow', 'his', 'father', \"'s\", 'purge', 'during', 'the', 'Cultural', 'Revolution', 'and', 'live', 'in', 'a', 'cave', 'in', 'the', 'village', 'of', 'Liangjiahe', ',', 'where', 'he', 'join', 'the', 'CCP', 'and', 'work', 'a', 'the', 'party', 'secretary', '.']\n"
          ],
          "name": "stdout"
        }
      ]
    },
    {
      "cell_type": "markdown",
      "metadata": {
        "id": "nL6OCPrbYLfW"
      },
      "source": [
        "##Task 5: Parsing"
      ]
    },
    {
      "cell_type": "markdown",
      "metadata": {
        "id": "msghd95P2ygl"
      },
      "source": [
        "Load spaCy and Benepar"
      ]
    },
    {
      "cell_type": "code",
      "metadata": {
        "colab": {
          "base_uri": "https://localhost:8080/"
        },
        "id": "wA-3sMH21b3h",
        "outputId": "2efe747f-976b-415e-c277-a105308886d0"
      },
      "source": [
        "loader = spacy.load('en')\r\n",
        "loader.add_pipe(BeneparComponent('benepar_en2'))"
      ],
      "execution_count": 35,
      "outputs": [
        {
          "output_type": "stream",
          "text": [
            "WARNING:tensorflow:From /usr/local/lib/python3.6/dist-packages/benepar/base_parser.py:197: The name tf.GraphDef is deprecated. Please use tf.compat.v1.GraphDef instead.\n",
            "\n",
            "WARNING:tensorflow:From /usr/local/lib/python3.6/dist-packages/benepar/base_parser.py:202: The name tf.Session is deprecated. Please use tf.compat.v1.Session instead.\n",
            "\n"
          ],
          "name": "stdout"
        }
      ]
    },
    {
      "cell_type": "markdown",
      "metadata": {
        "id": "L2wtHyw12keZ"
      },
      "source": [
        "Generate a parse tree from the original text using constituency parsing"
      ]
    },
    {
      "cell_type": "code",
      "metadata": {
        "colab": {
          "base_uri": "https://localhost:8080/",
          "height": 88
        },
        "id": "ccYxnExA2j-O",
        "outputId": "0ff2cb51-e329-4dab-d3d4-129c2c3566f8"
      },
      "source": [
        "list(loader(text).sents)[0]._.parse_string"
      ],
      "execution_count": 36,
      "outputs": [
        {
          "output_type": "execute_result",
          "data": {
            "application/vnd.google.colaboratory.intrinsic+json": {
              "type": "string"
            },
            "text/plain": [
              "\"(S (NP (NNP Xi) (NNP Jinping)) (VP (VBZ is) (NP (NP (DT a) (JJ Chinese) (NN politician)) (SBAR (WHNP (WP who)) (S (VP (VBZ has) (VP (VP (VBN served) (PP (IN as) (NP (NP (NP (JJ General) (NN Secretary)) (PP (IN of) (NP (NP (DT the) (NNP Chinese) (NNP Communist) (NNP Party)) (PRN (-LRB- -LRB-) (NP (NNP CCP)) (-RRB- -RRB-))))) (CC and) (NP (NP (NP (NN Chairman)) (PP (IN of) (NP (DT the) (NNP Central) (NNP Military) (NNP Commission)))) (PRN (-LRB- -LRB-) (NP (NNP CMC)) (-RRB- -RRB-))))) (PP (IN since) (NP (CD 2012)))) (, ,) (CC and) (NP (NP (NP (NN President)) (PP (IN of) (NP (NP (NP (NP (DT the) (NNPS People) (POS 's)) (NNP Republic)) (PP (IN of) (NP (NNP China)))) (PRN (-LRB- -LRB-) (NP (NNP PRC)) (-RRB- -RRB-))))) (PP (IN since) (NP (CD 2013)))))))))) (. .))\""
            ]
          },
          "metadata": {
            "tags": []
          },
          "execution_count": 36
        }
      ]
    }
  ]
}