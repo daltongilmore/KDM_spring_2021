{
  "nbformat": 4,
  "nbformat_minor": 0,
  "metadata": {
    "colab": {
      "name": "ICP11_DaltonGilmore.ipynb",
      "provenance": []
    },
    "kernelspec": {
      "name": "python3",
      "display_name": "Python 3"
    },
    "language_info": {
      "name": "python"
    },
    "accelerator": "GPU"
  },
  "cells": [
    {
      "cell_type": "markdown",
      "metadata": {
        "id": "-jFFRbCqzRY8"
      },
      "source": [
        "In this ICP we will build 2 feed forward network.\n",
        "\n",
        ">Auto Encoder\n",
        "\n",
        ">CNN\n",
        "\n",
        ">Data Set\n",
        "\n",
        ">>The MNIST database of handwritten digits. Training set of 60,000 examples, and a test set of 10,000 examples\n"
      ]
    },
    {
      "cell_type": "markdown",
      "metadata": {
        "id": "XGzIpl7P0U6_"
      },
      "source": [
        "Auto Encoders:\n",
        "\n",
        ">>Data compression is a big topic that’s used in computer vision, computer networks, computer architecture, and many other fields.The point of data compression is to convert our input into a smaller representation that we recreate, to a degree of quality. This smaller representation is what would be passed around, and, when anyone needed the original, they would reconstruct it from the smaller representation.Autoencoders are unsupervised neural networks that use machine learning to do this compression \n"
      ]
    },
    {
      "cell_type": "code",
      "metadata": {
        "id": "r9_cWbPki6tv"
      },
      "source": [
        "from keras.layers import Input, Dense\n",
        "from keras.models import Model\n",
        "from keras.datasets import mnist\n",
        "from keras.datasets import cifar10 # cifar10 dataset from keras\n",
        "import numpy as np\n",
        "import matplotlib.pyplot as plt\n",
        "\n"
      ],
      "execution_count": 1,
      "outputs": []
    },
    {
      "cell_type": "markdown",
      "metadata": {
        "id": "fZMxXfcA0wIW"
      },
      "source": [
        "Load  MNIST handwritten digits dataset.\n",
        "\n",
        "There is no need to load labels because autoencoders are unsupervised.\n",
        "\n",
        "Rescale our images from 0 – 255 to 0 – 1 and flatten them out.\n"
      ]
    },
    {
      "cell_type": "code",
      "metadata": {
        "id": "-z3fLLrtjO1X"
      },
      "source": [
        "#Notice that we’re not loading any of the labels because autoencoders are unsupervised\n",
        "(X_train, _), (X_test, _) = cifar10.load_data()\n",
        "# rescale our images from 0 – 255 to 0 – 1 and flatten them out.\n",
        "X_train = X_train.astype('float32') / 255.\n",
        "X_test = X_test.astype('float32') / 255.\n",
        "X_train = X_train.reshape((X_train.shape[0], -1))\n",
        "X_test = X_test.reshape((X_test.shape[0], -1))"
      ],
      "execution_count": 2,
      "outputs": []
    },
    {
      "cell_type": "code",
      "metadata": {
        "colab": {
          "base_uri": "https://localhost:8080/"
        },
        "id": "MceFF_0BjO9O",
        "outputId": "716af1eb-c7f7-4663-e7e1-3195fdd4b28f"
      },
      "source": [
        "X_train.shape"
      ],
      "execution_count": 3,
      "outputs": [
        {
          "output_type": "execute_result",
          "data": {
            "text/plain": [
              "(50000, 3072)"
            ]
          },
          "metadata": {
            "tags": []
          },
          "execution_count": 3
        }
      ]
    },
    {
      "cell_type": "code",
      "metadata": {
        "colab": {
          "base_uri": "https://localhost:8080/"
        },
        "id": "BupxtkW-jPDk",
        "outputId": "480a3be6-ff88-44e7-856b-51454cf64a6d"
      },
      "source": [
        "X_test.shape"
      ],
      "execution_count": 4,
      "outputs": [
        {
          "output_type": "execute_result",
          "data": {
            "text/plain": [
              "(10000, 3072)"
            ]
          },
          "metadata": {
            "tags": []
          },
          "execution_count": 4
        }
      ]
    },
    {
      "cell_type": "code",
      "metadata": {
        "id": "4tzUyrr7rBUg"
      },
      "source": [
        "INPUT_SIZE = 3072\n",
        "ENCODING_SIZE = 64"
      ],
      "execution_count": 5,
      "outputs": []
    },
    {
      "cell_type": "markdown",
      "metadata": {
        "id": "-h3DN2WW1Hjn"
      },
      "source": [
        "Create autoencoder\n",
        "\t\n",
        "Use ReLU  activation functions \n",
        "\n",
        "create constants for our input size and our encoding size. \n",
        "\n",
        "reduce our input from 784 -> 512 -> 256 -> 128 -> 64, encoder path\n",
        "\n",
        "then expand it back up 64 -> 128 -> 256 -> 512 -> 784, decoder path\n"
      ]
    },
    {
      "cell_type": "code",
      "metadata": {
        "id": "oacp6YGKjhtR"
      },
      "source": [
        "#reduce our input from 3072 -> 1024 -> 512 -> 256 -> 128 -> 64 , then expand it back up 64 -> 128 -> 256 -> 512 -> 1024 -> 3072\n",
        "# Also notice the relu activation function\n",
        "input_img = Input(shape=(INPUT_SIZE,))\n",
        "encoded = Dense(1024, activation='relu')(input_img) # added layer to support encoding from a higher value\n",
        "encoded = Dense(512, activation='relu')(encoded)\n",
        "encoded = Dense(256, activation='relu')(encoded)\n",
        "encoded = Dense(128, activation='relu')(encoded)\n",
        "encoded = Dense(ENCODING_SIZE, activation='relu')(encoded)"
      ],
      "execution_count": 6,
      "outputs": []
    },
    {
      "cell_type": "code",
      "metadata": {
        "id": "MSF9HPsAj2ns"
      },
      "source": [
        "decoded = Dense(128, activation='relu')(encoded)\n",
        "decoded = Dense(256, activation='relu')(decoded)\n",
        "decoded = Dense(512, activation='relu')(decoded)\n",
        "decoded = Dense(1024, activation='relu')(decoded) # added layer to support decoding to a higher value\n",
        "decoded = Dense(INPUT_SIZE, activation='relu')(decoded)\n"
      ],
      "execution_count": 7,
      "outputs": []
    },
    {
      "cell_type": "code",
      "metadata": {
        "id": "1tMXFCw5j9lB"
      },
      "source": [
        "autoencoder = Model(input_img, decoded)"
      ],
      "execution_count": 8,
      "outputs": []
    },
    {
      "cell_type": "markdown",
      "metadata": {
        "id": "2awwn1Hw11C-"
      },
      "source": [
        "Training the model and then making the prediction \n",
        "\n",
        "Build and train the model.\n",
        "\n",
        "Use the ADAM optimizer and mean squared error loss (the Euclidean distance/loss) between the input and reconstruction\n",
        "\n",
        "encode and decode the test set to see how well model is performing\n",
        "\n"
      ]
    },
    {
      "cell_type": "code",
      "metadata": {
        "colab": {
          "base_uri": "https://localhost:8080/"
        },
        "id": "jZ0OekOij_hR",
        "outputId": "a0d458e0-e619-4135-dd02-48f7ed157d94"
      },
      "source": [
        "#using ADAM optimizer and mean squared error loss (the Euclidean distance/loss) between the input and reconstruction\n",
        "autoencoder.compile(optimizer='adam', loss='mean_squared_error',)\n",
        "autoencoder.fit(X_train, X_train, epochs=50, batch_size=256, shuffle=True, validation_split=0.2)"
      ],
      "execution_count": 9,
      "outputs": [
        {
          "output_type": "stream",
          "text": [
            "Epoch 1/50\n",
            "157/157 [==============================] - 3s 12ms/step - loss: 0.1384 - val_loss: 0.0776\n",
            "Epoch 2/50\n",
            "157/157 [==============================] - 1s 9ms/step - loss: 0.0668 - val_loss: 0.0492\n",
            "Epoch 3/50\n",
            "157/157 [==============================] - 1s 9ms/step - loss: 0.0472 - val_loss: 0.0373\n",
            "Epoch 4/50\n",
            "157/157 [==============================] - 1s 9ms/step - loss: 0.0359 - val_loss: 0.0313\n",
            "Epoch 5/50\n",
            "157/157 [==============================] - 1s 9ms/step - loss: 0.0307 - val_loss: 0.0276\n",
            "Epoch 6/50\n",
            "157/157 [==============================] - 1s 9ms/step - loss: 0.0274 - val_loss: 0.0272\n",
            "Epoch 7/50\n",
            "157/157 [==============================] - 1s 9ms/step - loss: 0.0269 - val_loss: 0.0247\n",
            "Epoch 8/50\n",
            "157/157 [==============================] - 1s 9ms/step - loss: 0.0245 - val_loss: 0.0236\n",
            "Epoch 9/50\n",
            "157/157 [==============================] - 1s 9ms/step - loss: 0.0235 - val_loss: 0.0229\n",
            "Epoch 10/50\n",
            "157/157 [==============================] - 1s 9ms/step - loss: 0.0226 - val_loss: 0.0217\n",
            "Epoch 11/50\n",
            "157/157 [==============================] - 1s 9ms/step - loss: 0.0217 - val_loss: 0.0210\n",
            "Epoch 12/50\n",
            "157/157 [==============================] - 1s 9ms/step - loss: 0.0211 - val_loss: 0.0203\n",
            "Epoch 13/50\n",
            "157/157 [==============================] - 1s 9ms/step - loss: 0.0199 - val_loss: 0.0193\n",
            "Epoch 14/50\n",
            "157/157 [==============================] - 1s 9ms/step - loss: 0.0194 - val_loss: 0.0193\n",
            "Epoch 15/50\n",
            "157/157 [==============================] - 1s 9ms/step - loss: 0.0191 - val_loss: 0.0188\n",
            "Epoch 16/50\n",
            "157/157 [==============================] - 1s 9ms/step - loss: 0.0187 - val_loss: 0.0187\n",
            "Epoch 17/50\n",
            "157/157 [==============================] - 1s 9ms/step - loss: 0.0187 - val_loss: 0.0184\n",
            "Epoch 18/50\n",
            "157/157 [==============================] - 1s 9ms/step - loss: 0.0182 - val_loss: 0.0179\n",
            "Epoch 19/50\n",
            "157/157 [==============================] - 1s 9ms/step - loss: 0.0178 - val_loss: 0.0176\n",
            "Epoch 20/50\n",
            "157/157 [==============================] - 1s 9ms/step - loss: 0.0176 - val_loss: 0.0177\n",
            "Epoch 21/50\n",
            "157/157 [==============================] - 1s 9ms/step - loss: 0.0173 - val_loss: 0.0173\n",
            "Epoch 22/50\n",
            "157/157 [==============================] - 1s 9ms/step - loss: 0.0173 - val_loss: 0.0174\n",
            "Epoch 23/50\n",
            "157/157 [==============================] - 1s 9ms/step - loss: 0.0171 - val_loss: 0.0173\n",
            "Epoch 24/50\n",
            "157/157 [==============================] - 1s 9ms/step - loss: 0.0168 - val_loss: 0.0167\n",
            "Epoch 25/50\n",
            "157/157 [==============================] - 1s 9ms/step - loss: 0.0167 - val_loss: 0.0165\n",
            "Epoch 26/50\n",
            "157/157 [==============================] - 1s 9ms/step - loss: 0.0163 - val_loss: 0.0162\n",
            "Epoch 27/50\n",
            "157/157 [==============================] - 1s 9ms/step - loss: 0.0162 - val_loss: 0.0160\n",
            "Epoch 28/50\n",
            "157/157 [==============================] - 1s 9ms/step - loss: 0.0160 - val_loss: 0.0159\n",
            "Epoch 29/50\n",
            "157/157 [==============================] - 1s 9ms/step - loss: 0.0157 - val_loss: 0.0159\n",
            "Epoch 30/50\n",
            "157/157 [==============================] - 1s 9ms/step - loss: 0.0157 - val_loss: 0.0157\n",
            "Epoch 31/50\n",
            "157/157 [==============================] - 1s 9ms/step - loss: 0.0155 - val_loss: 0.0164\n",
            "Epoch 32/50\n",
            "157/157 [==============================] - 1s 9ms/step - loss: 0.0155 - val_loss: 0.0153\n",
            "Epoch 33/50\n",
            "157/157 [==============================] - 1s 9ms/step - loss: 0.0153 - val_loss: 0.0152\n",
            "Epoch 34/50\n",
            "157/157 [==============================] - 1s 9ms/step - loss: 0.0150 - val_loss: 0.0152\n",
            "Epoch 35/50\n",
            "157/157 [==============================] - 1s 9ms/step - loss: 0.0148 - val_loss: 0.0149\n",
            "Epoch 36/50\n",
            "157/157 [==============================] - 1s 9ms/step - loss: 0.0148 - val_loss: 0.0147\n",
            "Epoch 37/50\n",
            "157/157 [==============================] - 1s 9ms/step - loss: 0.0146 - val_loss: 0.0145\n",
            "Epoch 38/50\n",
            "157/157 [==============================] - 1s 9ms/step - loss: 0.0143 - val_loss: 0.0150\n",
            "Epoch 39/50\n",
            "157/157 [==============================] - 1s 9ms/step - loss: 0.0143 - val_loss: 0.0146\n",
            "Epoch 40/50\n",
            "157/157 [==============================] - 1s 9ms/step - loss: 0.0142 - val_loss: 0.0147\n",
            "Epoch 41/50\n",
            "157/157 [==============================] - 1s 9ms/step - loss: 0.0142 - val_loss: 0.0142\n",
            "Epoch 42/50\n",
            "157/157 [==============================] - 1s 9ms/step - loss: 0.0138 - val_loss: 0.0148\n",
            "Epoch 43/50\n",
            "157/157 [==============================] - 1s 9ms/step - loss: 0.0138 - val_loss: 0.0145\n",
            "Epoch 44/50\n",
            "157/157 [==============================] - 1s 9ms/step - loss: 0.0138 - val_loss: 0.0141\n",
            "Epoch 45/50\n",
            "157/157 [==============================] - 1s 9ms/step - loss: 0.0137 - val_loss: 0.0138\n",
            "Epoch 46/50\n",
            "157/157 [==============================] - 1s 9ms/step - loss: 0.0135 - val_loss: 0.0141\n",
            "Epoch 47/50\n",
            "157/157 [==============================] - 1s 9ms/step - loss: 0.0135 - val_loss: 0.0138\n",
            "Epoch 48/50\n",
            "157/157 [==============================] - 1s 9ms/step - loss: 0.0133 - val_loss: 0.0139\n",
            "Epoch 49/50\n",
            "157/157 [==============================] - 1s 9ms/step - loss: 0.0132 - val_loss: 0.0135\n",
            "Epoch 50/50\n",
            "157/157 [==============================] - 1s 9ms/step - loss: 0.0132 - val_loss: 0.0138\n"
          ],
          "name": "stdout"
        },
        {
          "output_type": "execute_result",
          "data": {
            "text/plain": [
              "<tensorflow.python.keras.callbacks.History at 0x7f7cde9b3f10>"
            ]
          },
          "metadata": {
            "tags": []
          },
          "execution_count": 9
        }
      ]
    },
    {
      "cell_type": "code",
      "metadata": {
        "id": "SmLdgFuLkHLE"
      },
      "source": [
        "#After our autoencoder has trained, we can try to encode and decode the test set to see how well our autoencoder can compress\n",
        "decoded_imgs = autoencoder.predict(X_test)"
      ],
      "execution_count": 10,
      "outputs": []
    },
    {
      "cell_type": "markdown",
      "metadata": {
        "id": "l9AV9WA32DO4"
      },
      "source": [
        "Visvualize the results "
      ]
    },
    {
      "cell_type": "code",
      "metadata": {
        "colab": {
          "base_uri": "https://localhost:8080/",
          "height": 350
        },
        "id": "4QGe9UvVu2gL",
        "outputId": "a19a988c-64c7-4acf-d19e-fe5576429858"
      },
      "source": [
        "\n",
        "plt.figure(figsize=(20, 4))\n",
        "for i in range(10):\n",
        "    # original\n",
        "    plt.subplot(2, 10, i + 1)\n",
        "    plt.imshow(X_test[i].reshape(32, 32, 3))\n",
        "    plt.gray()\n",
        "    plt.axis('off')\n",
        " \n",
        "    # reconstruction\n",
        "    plt.subplot(2, 10, i + 1 + 10)\n",
        "    plt.imshow(decoded_imgs[i].reshape(32, 32, 3))\n",
        "    plt.gray()\n",
        "    plt.axis('off')\n",
        " \n",
        "plt.tight_layout()\n",
        "plt.show()"
      ],
      "execution_count": 11,
      "outputs": [
        {
          "output_type": "stream",
          "text": [
            "Clipping input data to the valid range for imshow with RGB data ([0..1] for floats or [0..255] for integers).\n",
            "Clipping input data to the valid range for imshow with RGB data ([0..1] for floats or [0..255] for integers).\n",
            "Clipping input data to the valid range for imshow with RGB data ([0..1] for floats or [0..255] for integers).\n"
          ],
          "name": "stderr"
        },
        {
          "output_type": "display_data",
          "data": {
            "image/png": "[encoded data removed]",
            "text/plain": [
              "<Figure size 1440x288 with 20 Axes>"
            ]
          },
          "metadata": {
            "tags": [],
            "needs_background": "light"
          }
        }
      ]
    },
    {
      "cell_type": "markdown",
      "metadata": {
        "id": "qPuU-xlr2IQi"
      },
      "source": [
        "CNN \n",
        "\n",
        "The Problem: MNIST digit classification\n",
        "\t\n",
        "We’re going to tackle a classic introductory Computer Vision problem: MNIST handwritten digit classification. It’s simple: given an image, classify it as a digit\n",
        "\t\n",
        "Each image in the MNIST dataset is 28x28 and contains a centered, grayscale digit. Our CNN will take an image and output one of 10 possible classes (one for each digit)\n",
        "\n",
        "First of all,  import all necessary packages\n",
        "\n"
      ]
    },
    {
      "cell_type": "code",
      "metadata": {
        "id": "FAcah1drwp5F"
      },
      "source": [
        "import numpy as np\n",
        "import tensorflow as tf\n",
        "from keras.datasets import cifar10\n",
        "from keras.models import Sequential\n",
        "from keras.layers import Conv2D, MaxPooling2D, Dense, Flatten\n",
        "from keras.utils import to_categorical"
      ],
      "execution_count": 12,
      "outputs": []
    },
    {
      "cell_type": "code",
      "metadata": {
        "id": "G8wNQ_5JwrbI"
      },
      "source": [
        "(train_images, train_labels), (test_images, test_labels) = cifar10.load_data()"
      ],
      "execution_count": 13,
      "outputs": []
    },
    {
      "cell_type": "markdown",
      "metadata": {
        "id": "2sT7ApeR2u4I"
      },
      "source": [
        "Before we begin, we’ll normalize the image pixel values from [0, 255] to [-0.5, 0.5]\n",
        "\t \n",
        "This will  make our network easier to train (using smaller, centered values usually leads to better results). \n",
        "\n",
        "We’ll also reshape each image from (28, 28) to (28, 28, 1) because Keras requires the third dimension. (1 stands for color scheme, which is grey scale in this case). \n",
        "\n"
      ]
    },
    {
      "cell_type": "code",
      "metadata": {
        "id": "5fvE-hRywrlV"
      },
      "source": [
        "# Normalize the images.\n",
        "train_images = (train_images / 255) - 0.5\n",
        "test_images = (test_images / 255) - 0.5\n"
      ],
      "execution_count": 14,
      "outputs": []
    },
    {
      "cell_type": "code",
      "metadata": {
        "id": "Xcah0Yovwro7"
      },
      "source": [
        "# Reshape the images.\n",
        "#train_images = np.expand_dims(train_images, axis=3)\n",
        "#test_images = np.expand_dims(test_images, axis=3)"
      ],
      "execution_count": 15,
      "outputs": []
    },
    {
      "cell_type": "markdown",
      "metadata": {
        "id": "73nP9Kv73IJt"
      },
      "source": [
        "Keras model is either built using the Sequential class, which represents a linear stack of layers, or the functional Model class, which is more customizable. \n",
        "\n",
        "We’ll be using the simpler Sequential model, since our CNN will be a linear stack of layers.\n",
        "\n",
        "num_filters, filter_size, and pool_size are self-explanatory variables that set the hyperparameters for our CNN.\n",
        "\n",
        "The first layer in any Sequential model must specify the input_shape, so we do so on Conv2D. \n",
        "\n",
        "Once this input shape is specified, Keras will automatically infer the shapes of inputs for later layers.\n",
        "\t\n",
        "The output Softmax layer has 10 nodes, one for each class\n",
        "\n",
        "\n"
      ]
    },
    {
      "cell_type": "code",
      "metadata": {
        "id": "soSpyDp6wrr4"
      },
      "source": [
        "\n",
        "num_filters = 8\n",
        "filter_size = 5\n",
        "pool_size = 3"
      ],
      "execution_count": 16,
      "outputs": []
    },
    {
      "cell_type": "code",
      "metadata": {
        "id": "2CpLEcMKw-CZ"
      },
      "source": [
        "# Build the model.\n",
        "model = Sequential([\n",
        "  Conv2D(num_filters, filter_size, input_shape=(32, 32, 3)),\n",
        "  MaxPooling2D(pool_size=pool_size),\n",
        "  Flatten(),\n",
        "  Dense(10, activation='softmax'),\n",
        "])"
      ],
      "execution_count": 17,
      "outputs": []
    },
    {
      "cell_type": "markdown",
      "metadata": {
        "id": "SkwwUCKQ4M7U"
      },
      "source": [
        "Before we can begin training, we need to configure the training process. We decide 3 key factors during the compilation step:\n",
        "\t\n",
        "The optimizer. We’ll stick with a pretty good default: the Adam gradient-based optimizer. Keras has many other optimizers you can look into as well.\n",
        "\n",
        "The loss function. Since we’re using a Softmax output layer, we’ll use the Cross-Entropy loss. Keras distinguishes between binary_crossentropy (2 classes) and categorical_crossentropy (>2 classes), so we’ll use the latter. \n",
        "\n",
        "A list of metrics. Since this is a classification problem, we’ll just have Keras report on the accuracy metric.\n",
        "\n"
      ]
    },
    {
      "cell_type": "code",
      "metadata": {
        "id": "uhflsBSvw-GX"
      },
      "source": [
        "# Compile the model.\n",
        "model.compile(\n",
        "  'adam',\n",
        "  loss='categorical_crossentropy',\n",
        "  metrics=['accuracy'],\n",
        ")"
      ],
      "execution_count": 18,
      "outputs": []
    },
    {
      "cell_type": "markdown",
      "metadata": {
        "id": "SVGOn2AX41Ub"
      },
      "source": [
        "Training a model in Keras literally consists only of calling fit() and specifying some parameters. There are a lot of possible parameters, but we’ll only supply these:\n",
        "\n",
        "The training data (images and labels), commonly known as X and Y, respectively.\n",
        "\n",
        "The number of epochs (iterations over the entire dataset) to train for.\n",
        "\n",
        "The validation data (or test data), which is used during training to periodically measure the network’s performance against data it hasn’t seen before.\n",
        "\n",
        "There’s one thing we have to be careful about:\n",
        "\n",
        "Keras expects the training targets to be 10-dimensional vectors, since there are 10 nodes in our Softmax output layer. Right now, our train_labels and test_labels arrays contain single integers representing the class for each image\n",
        "\n",
        "Conveniently, Keras has a utility method that fixes this exact issue:\n",
        "to_categorical: It turns our array of class integers into an array of one-hot vectors instead. For example, 2 would become [0, 0, 1, 0, 0, 0, 0, 0, 0, 0] (it’s zero-indexed)\n",
        "\n",
        "\n",
        "\n"
      ]
    },
    {
      "cell_type": "code",
      "metadata": {
        "colab": {
          "base_uri": "https://localhost:8080/"
        },
        "id": "srpkxU0_w-JR",
        "outputId": "ded4ad94-baef-4a49-a888-9f6ad1f63212"
      },
      "source": [
        "# Train the model.\n",
        "model.fit(\n",
        "  train_images,\n",
        "  to_categorical(train_labels),\n",
        "  epochs=30,\n",
        "  validation_data=(test_images, to_categorical(test_labels)),\n",
        ")"
      ],
      "execution_count": 19,
      "outputs": [
        {
          "output_type": "stream",
          "text": [
            "Epoch 1/30\n",
            "1563/1563 [==============================] - 34s 3ms/step - loss: 1.7545 - accuracy: 0.3798 - val_loss: 1.4257 - val_accuracy: 0.4981\n",
            "Epoch 2/30\n",
            "1563/1563 [==============================] - 5s 3ms/step - loss: 1.3923 - accuracy: 0.5192 - val_loss: 1.3399 - val_accuracy: 0.5349\n",
            "Epoch 3/30\n",
            "1563/1563 [==============================] - 5s 3ms/step - loss: 1.3116 - accuracy: 0.5452 - val_loss: 1.2991 - val_accuracy: 0.5499\n",
            "Epoch 4/30\n",
            "1563/1563 [==============================] - 5s 3ms/step - loss: 1.2703 - accuracy: 0.5594 - val_loss: 1.2654 - val_accuracy: 0.5670\n",
            "Epoch 5/30\n",
            "1563/1563 [==============================] - 5s 3ms/step - loss: 1.2462 - accuracy: 0.5723 - val_loss: 1.2476 - val_accuracy: 0.5674\n",
            "Epoch 6/30\n",
            "1563/1563 [==============================] - 5s 3ms/step - loss: 1.2050 - accuracy: 0.5833 - val_loss: 1.2211 - val_accuracy: 0.5793\n",
            "Epoch 7/30\n",
            "1563/1563 [==============================] - 5s 3ms/step - loss: 1.1830 - accuracy: 0.5949 - val_loss: 1.2067 - val_accuracy: 0.5852\n",
            "Epoch 8/30\n",
            "1563/1563 [==============================] - 5s 3ms/step - loss: 1.1713 - accuracy: 0.5998 - val_loss: 1.1843 - val_accuracy: 0.5938\n",
            "Epoch 9/30\n",
            "1563/1563 [==============================] - 5s 3ms/step - loss: 1.1422 - accuracy: 0.6061 - val_loss: 1.1878 - val_accuracy: 0.5972\n",
            "Epoch 10/30\n",
            "1563/1563 [==============================] - 5s 3ms/step - loss: 1.1313 - accuracy: 0.6115 - val_loss: 1.1845 - val_accuracy: 0.5938\n",
            "Epoch 11/30\n",
            "1563/1563 [==============================] - 5s 3ms/step - loss: 1.1195 - accuracy: 0.6155 - val_loss: 1.1577 - val_accuracy: 0.6079\n",
            "Epoch 12/30\n",
            "1563/1563 [==============================] - 5s 3ms/step - loss: 1.1153 - accuracy: 0.6201 - val_loss: 1.1681 - val_accuracy: 0.6037\n",
            "Epoch 13/30\n",
            "1563/1563 [==============================] - 5s 3ms/step - loss: 1.1125 - accuracy: 0.6234 - val_loss: 1.1584 - val_accuracy: 0.6028\n",
            "Epoch 14/30\n",
            "1563/1563 [==============================] - 5s 3ms/step - loss: 1.1032 - accuracy: 0.6248 - val_loss: 1.1750 - val_accuracy: 0.6002\n",
            "Epoch 15/30\n",
            "1563/1563 [==============================] - 5s 3ms/step - loss: 1.1078 - accuracy: 0.6230 - val_loss: 1.1678 - val_accuracy: 0.6008\n",
            "Epoch 16/30\n",
            "1563/1563 [==============================] - 5s 3ms/step - loss: 1.1019 - accuracy: 0.6258 - val_loss: 1.1590 - val_accuracy: 0.6075\n",
            "Epoch 17/30\n",
            "1563/1563 [==============================] - 5s 3ms/step - loss: 1.0993 - accuracy: 0.6239 - val_loss: 1.1680 - val_accuracy: 0.6018\n",
            "Epoch 18/30\n",
            "1563/1563 [==============================] - 5s 3ms/step - loss: 1.0939 - accuracy: 0.6265 - val_loss: 1.1753 - val_accuracy: 0.5998\n",
            "Epoch 19/30\n",
            "1563/1563 [==============================] - 5s 3ms/step - loss: 1.0811 - accuracy: 0.6323 - val_loss: 1.1516 - val_accuracy: 0.6086\n",
            "Epoch 20/30\n",
            "1563/1563 [==============================] - 5s 3ms/step - loss: 1.0818 - accuracy: 0.6305 - val_loss: 1.1500 - val_accuracy: 0.6105\n",
            "Epoch 21/30\n",
            "1563/1563 [==============================] - 5s 3ms/step - loss: 1.0848 - accuracy: 0.6324 - val_loss: 1.1705 - val_accuracy: 0.5991\n",
            "Epoch 22/30\n",
            "1563/1563 [==============================] - 5s 3ms/step - loss: 1.0800 - accuracy: 0.6320 - val_loss: 1.1572 - val_accuracy: 0.6078\n",
            "Epoch 23/30\n",
            "1563/1563 [==============================] - 5s 3ms/step - loss: 1.0796 - accuracy: 0.6327 - val_loss: 1.1552 - val_accuracy: 0.6064\n",
            "Epoch 24/30\n",
            "1563/1563 [==============================] - 5s 3ms/step - loss: 1.0771 - accuracy: 0.6322 - val_loss: 1.1489 - val_accuracy: 0.6105\n",
            "Epoch 25/30\n",
            "1563/1563 [==============================] - 5s 3ms/step - loss: 1.0780 - accuracy: 0.6340 - val_loss: 1.1574 - val_accuracy: 0.6105\n",
            "Epoch 26/30\n",
            "1563/1563 [==============================] - 5s 3ms/step - loss: 1.0743 - accuracy: 0.6321 - val_loss: 1.1588 - val_accuracy: 0.6122\n",
            "Epoch 27/30\n",
            "1563/1563 [==============================] - 5s 3ms/step - loss: 1.0660 - accuracy: 0.6354 - val_loss: 1.1653 - val_accuracy: 0.6075\n",
            "Epoch 28/30\n",
            "1563/1563 [==============================] - 5s 3ms/step - loss: 1.0713 - accuracy: 0.6383 - val_loss: 1.1640 - val_accuracy: 0.6049\n",
            "Epoch 29/30\n",
            "1563/1563 [==============================] - 5s 3ms/step - loss: 1.0694 - accuracy: 0.6338 - val_loss: 1.1445 - val_accuracy: 0.6129\n",
            "Epoch 30/30\n",
            "1563/1563 [==============================] - 5s 3ms/step - loss: 1.0700 - accuracy: 0.6362 - val_loss: 1.1506 - val_accuracy: 0.6074\n"
          ],
          "name": "stdout"
        },
        {
          "output_type": "execute_result",
          "data": {
            "text/plain": [
              "<tensorflow.python.keras.callbacks.History at 0x7f7c42520150>"
            ]
          },
          "metadata": {
            "tags": []
          },
          "execution_count": 19
        }
      ]
    },
    {
      "cell_type": "markdown",
      "metadata": {
        "id": "zcMHM5u65_rF"
      },
      "source": [
        "We pass an array of inputs to predict() and it returns an array of outputs.\n",
        "\n",
        "The output of our network is 10 probabilities (because of softmax), so we’ll use np.argmax() to turn those into actual digits.\n"
      ]
    },
    {
      "cell_type": "code",
      "metadata": {
        "id": "Ganai2kyw-MX"
      },
      "source": [
        "# Predict on the first 10 test images.\n",
        "predictions = model.predict(test_images[:10])"
      ],
      "execution_count": 26,
      "outputs": []
    },
    {
      "cell_type": "code",
      "metadata": {
        "colab": {
          "base_uri": "https://localhost:8080/"
        },
        "id": "WNqIPTlow-Ox",
        "outputId": "f1eeb69b-a3f2-420e-cb5a-6a8070bc5991"
      },
      "source": [
        "# Print our model's predictions.\n",
        "print(\"These are the model predictions :\")\n",
        "print(np.argmax(predictions, axis=1)) \n",
        "print(\"\\n\")"
      ],
      "execution_count": 27,
      "outputs": [
        {
          "output_type": "stream",
          "text": [
            "These are the model predictions :\n",
            "[3 8 8 8 6 6 1 2 3 1]\n",
            "\n",
            "\n"
          ],
          "name": "stdout"
        }
      ]
    },
    {
      "cell_type": "code",
      "metadata": {
        "colab": {
          "base_uri": "https://localhost:8080/"
        },
        "id": "8KAZx-dIw-SC",
        "outputId": "a3fa138e-e7d5-4bf0-82d5-8afaf0d67db9"
      },
      "source": [
        "# Check our predictions against the ground truths.\n",
        "print(\"These are the corresponding labels :\")\n",
        "print(test_labels[:10]) "
      ],
      "execution_count": 28,
      "outputs": [
        {
          "output_type": "stream",
          "text": [
            "These are the corresponding labels :\n",
            "[[3]\n",
            " [8]\n",
            " [8]\n",
            " [0]\n",
            " [6]\n",
            " [6]\n",
            " [1]\n",
            " [6]\n",
            " [3]\n",
            " [1]]\n"
          ],
          "name": "stdout"
        }
      ]
    }
  ]
}