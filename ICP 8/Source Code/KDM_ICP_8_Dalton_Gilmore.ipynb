{
  "nbformat": 4,
  "nbformat_minor": 0,
  "metadata": {
    "colab": {
      "name": "KDM ICP 8 Dalton Gilmore",
      "provenance": [],
      "collapsed_sections": []
    },
    "kernelspec": {
      "name": "python3",
      "display_name": "Python 3"
    }
  },
  "cells": [
    {
      "cell_type": "markdown",
      "metadata": {
        "id": "wtbSwlAPsoPk"
      },
      "source": [
        "# Initial Code (setup & installations)"
      ]
    },
    {
      "cell_type": "code",
      "metadata": {
        "id": "TkjUvZ8ClHr-",
        "colab": {
          "base_uri": "https://localhost:8080/"
        },
        "outputId": "2641c73e-cfc8-4f47-a172-8a3d2c393726"
      },
      "source": [
        "# Installing necessary libraries for triplet extraction\r\n",
        "!pip install textacy\r\n",
        "import spacy\r\n",
        "import textacy"
      ],
      "execution_count": 1,
      "outputs": [
        {
          "output_type": "stream",
          "text": [
            "Collecting textacy\n",
            "\u001b[?25l  Downloading https://files.pythonhosted.org/packages/65/99/054efc5dea92c84a850639c490541de6cba29bc148debc3c73848c5e64c2/textacy-0.10.1-py3-none-any.whl (183kB)\n",
            "\u001b[K     |████████████████████████████████| 184kB 5.7MB/s \n",
            "\u001b[?25hCollecting jellyfish>=0.7.0\n",
            "\u001b[?25l  Downloading https://files.pythonhosted.org/packages/30/a6/4d039bc827a102f62ce7a7910713e38fdfd7c7a40aa39c72fb14938a1473/jellyfish-0.8.2-cp37-cp37m-manylinux2014_x86_64.whl (90kB)\n",
            "\u001b[K     |████████████████████████████████| 92kB 7.6MB/s \n",
            "\u001b[?25hRequirement already satisfied: joblib>=0.13.0 in /usr/local/lib/python3.7/dist-packages (from textacy) (1.0.1)\n",
            "Requirement already satisfied: requests>=2.10.0 in /usr/local/lib/python3.7/dist-packages (from textacy) (2.23.0)\n",
            "Requirement already satisfied: spacy<3.0.0,>=2.2.0 in /usr/local/lib/python3.7/dist-packages (from textacy) (2.2.4)\n",
            "Requirement already satisfied: networkx>=2.0 in /usr/local/lib/python3.7/dist-packages (from textacy) (2.5)\n",
            "Requirement already satisfied: numpy>=1.17.0 in /usr/local/lib/python3.7/dist-packages (from textacy) (1.19.5)\n",
            "Requirement already satisfied: scipy>=0.17.0 in /usr/local/lib/python3.7/dist-packages (from textacy) (1.4.1)\n",
            "Collecting cytoolz>=0.8.0\n",
            "\u001b[?25l  Downloading https://files.pythonhosted.org/packages/58/67/1c60da8ba831bfefedb64c78b9f6820bdf58972797c95644ee3191daf27a/cytoolz-0.11.0.tar.gz (477kB)\n",
            "\u001b[K     |████████████████████████████████| 481kB 22.4MB/s \n",
            "\u001b[?25hRequirement already satisfied: tqdm>=4.19.6 in /usr/local/lib/python3.7/dist-packages (from textacy) (4.41.1)\n",
            "Requirement already satisfied: cachetools>=2.0.1 in /usr/local/lib/python3.7/dist-packages (from textacy) (4.2.1)\n",
            "Collecting pyphen>=0.9.4\n",
            "\u001b[?25l  Downloading https://files.pythonhosted.org/packages/7c/5a/5bc036e01389bc6a6667a932bac3e388de6e7fa5777a6ff50e652f60ec79/Pyphen-0.10.0-py3-none-any.whl (1.9MB)\n",
            "\u001b[K     |████████████████████████████████| 1.9MB 39.2MB/s \n",
            "\u001b[?25hRequirement already satisfied: pyemd>=0.5.0 in /usr/local/lib/python3.7/dist-packages (from textacy) (0.5.1)\n",
            "Requirement already satisfied: srsly>=0.0.5 in /usr/local/lib/python3.7/dist-packages (from textacy) (1.0.5)\n",
            "Requirement already satisfied: scikit-learn<0.24.0,>=0.19.0 in /usr/local/lib/python3.7/dist-packages (from textacy) (0.22.2.post1)\n",
            "Requirement already satisfied: urllib3!=1.25.0,!=1.25.1,<1.26,>=1.21.1 in /usr/local/lib/python3.7/dist-packages (from requests>=2.10.0->textacy) (1.24.3)\n",
            "Requirement already satisfied: chardet<4,>=3.0.2 in /usr/local/lib/python3.7/dist-packages (from requests>=2.10.0->textacy) (3.0.4)\n",
            "Requirement already satisfied: certifi>=2017.4.17 in /usr/local/lib/python3.7/dist-packages (from requests>=2.10.0->textacy) (2020.12.5)\n",
            "Requirement already satisfied: idna<3,>=2.5 in /usr/local/lib/python3.7/dist-packages (from requests>=2.10.0->textacy) (2.10)\n",
            "Requirement already satisfied: setuptools in /usr/local/lib/python3.7/dist-packages (from spacy<3.0.0,>=2.2.0->textacy) (54.0.0)\n",
            "Requirement already satisfied: cymem<2.1.0,>=2.0.2 in /usr/local/lib/python3.7/dist-packages (from spacy<3.0.0,>=2.2.0->textacy) (2.0.5)\n",
            "Requirement already satisfied: plac<1.2.0,>=0.9.6 in /usr/local/lib/python3.7/dist-packages (from spacy<3.0.0,>=2.2.0->textacy) (1.1.3)\n",
            "Requirement already satisfied: thinc==7.4.0 in /usr/local/lib/python3.7/dist-packages (from spacy<3.0.0,>=2.2.0->textacy) (7.4.0)\n",
            "Requirement already satisfied: preshed<3.1.0,>=3.0.2 in /usr/local/lib/python3.7/dist-packages (from spacy<3.0.0,>=2.2.0->textacy) (3.0.5)\n",
            "Requirement already satisfied: catalogue<1.1.0,>=0.0.7 in /usr/local/lib/python3.7/dist-packages (from spacy<3.0.0,>=2.2.0->textacy) (1.0.0)\n",
            "Requirement already satisfied: murmurhash<1.1.0,>=0.28.0 in /usr/local/lib/python3.7/dist-packages (from spacy<3.0.0,>=2.2.0->textacy) (1.0.5)\n",
            "Requirement already satisfied: wasabi<1.1.0,>=0.4.0 in /usr/local/lib/python3.7/dist-packages (from spacy<3.0.0,>=2.2.0->textacy) (0.8.2)\n",
            "Requirement already satisfied: blis<0.5.0,>=0.4.0 in /usr/local/lib/python3.7/dist-packages (from spacy<3.0.0,>=2.2.0->textacy) (0.4.1)\n",
            "Requirement already satisfied: decorator>=4.3.0 in /usr/local/lib/python3.7/dist-packages (from networkx>=2.0->textacy) (4.4.2)\n",
            "Requirement already satisfied: toolz>=0.8.0 in /usr/local/lib/python3.7/dist-packages (from cytoolz>=0.8.0->textacy) (0.11.1)\n",
            "Requirement already satisfied: importlib-metadata>=0.20; python_version < \"3.8\" in /usr/local/lib/python3.7/dist-packages (from catalogue<1.1.0,>=0.0.7->spacy<3.0.0,>=2.2.0->textacy) (3.7.2)\n",
            "Requirement already satisfied: zipp>=0.5 in /usr/local/lib/python3.7/dist-packages (from importlib-metadata>=0.20; python_version < \"3.8\"->catalogue<1.1.0,>=0.0.7->spacy<3.0.0,>=2.2.0->textacy) (3.4.1)\n",
            "Requirement already satisfied: typing-extensions>=3.6.4; python_version < \"3.8\" in /usr/local/lib/python3.7/dist-packages (from importlib-metadata>=0.20; python_version < \"3.8\"->catalogue<1.1.0,>=0.0.7->spacy<3.0.0,>=2.2.0->textacy) (3.7.4.3)\n",
            "Building wheels for collected packages: cytoolz\n",
            "  Building wheel for cytoolz (setup.py) ... \u001b[?25l\u001b[?25hdone\n",
            "  Created wheel for cytoolz: filename=cytoolz-0.11.0-cp37-cp37m-linux_x86_64.whl size=1223284 sha256=227f66ce2bde646920ff510399af0e740e6b9eaf6c474bfcc06e50e1e8a906f5\n",
            "  Stored in directory: /root/.cache/pip/wheels/a1/32/3c/9c9926b510647cacdde744b2c7acdf1ccd5896fbb7f8d5df0c\n",
            "Successfully built cytoolz\n",
            "Installing collected packages: jellyfish, cytoolz, pyphen, textacy\n",
            "Successfully installed cytoolz-0.11.0 jellyfish-0.8.2 pyphen-0.10.0 textacy-0.10.1\n"
          ],
          "name": "stdout"
        }
      ]
    },
    {
      "cell_type": "markdown",
      "metadata": {
        "id": "I-7mZhx3svcf"
      },
      "source": [
        "# Triplet Extraction"
      ]
    },
    {
      "cell_type": "markdown",
      "metadata": {
        "id": "3EqkGpuxszGP"
      },
      "source": [
        "## Text 1"
      ]
    },
    {
      "cell_type": "code",
      "metadata": {
        "id": "EM3MDX7WmnXP"
      },
      "source": [
        "# Read in the first input file\r\n",
        "txt = open('abstract1.txt', 'r')\r\n",
        "\r\n",
        "#Load spaCy and close the reader\r\n",
        "nlp = spacy.load(\"en_core_web_sm\")\r\n",
        "doc = nlp(txt.read())\r\n",
        "txt.close()"
      ],
      "execution_count": 56,
      "outputs": []
    },
    {
      "cell_type": "code",
      "metadata": {
        "id": "N5qWtvYrmpq4"
      },
      "source": [
        "# Create empty array to store the tuples in\r\n",
        "triplets = []\r\n",
        "\r\n",
        "# Use textaCy to find and extract triplets from the text and store it in the array\r\n",
        "tuples = textacy.extract.subject_verb_object_triples(doc)\r\n",
        "list_tuples = list(tuples)\r\n",
        "if list_tuples != []:\r\n",
        "    triplets.append(list_tuples)"
      ],
      "execution_count": 57,
      "outputs": []
    },
    {
      "cell_type": "code",
      "metadata": {
        "colab": {
          "base_uri": "https://localhost:8080/"
        },
        "id": "puw7fc88mq8p",
        "outputId": "fe58c4c2-374e-41e3-cd72-653245f2d1fa"
      },
      "source": [
        "# Print out the extracted triplets\r\n",
        "for pair in triplets[0]:\r\n",
        "    print(pair)"
      ],
      "execution_count": 58,
      "outputs": [
        {
          "output_type": "stream",
          "text": [
            "(athletes, receive, payment)\n",
            "(team, can score, field goal)\n",
            "(field goal, scores, points)\n",
            "(members, are called, center)\n",
            "(members, are called, power)\n",
            "(players, are called, small)\n",
            "(players, are called, forward)\n",
            "(handling skills, are called, point guard)\n",
            "(point guard, directs, the)\n",
            "(FIBA Basketball World Cup, attracts, teams)\n",
            "(Basketball World Cup, features, basketball teams)\n"
          ],
          "name": "stdout"
        }
      ]
    },
    {
      "cell_type": "markdown",
      "metadata": {
        "id": "9tLhIwuatzEY"
      },
      "source": [
        "## Text 2"
      ]
    },
    {
      "cell_type": "code",
      "metadata": {
        "id": "Ayj4jOiXtzEg"
      },
      "source": [
        "# Read in the second input file\r\n",
        "txt = open('abstract2.txt', 'r')\r\n",
        "\r\n",
        "#Load spaCy and close the reader\r\n",
        "nlp = spacy.load(\"en_core_web_sm\")\r\n",
        "doc = nlp(txt.read())\r\n",
        "txt.close()"
      ],
      "execution_count": 66,
      "outputs": []
    },
    {
      "cell_type": "code",
      "metadata": {
        "id": "eGmmLId3tzEh"
      },
      "source": [
        "# Create empty array to store the tuples in\r\n",
        "triplets = []\r\n",
        "\r\n",
        "# Use textaCy to find and extract triplets from the text and store it in the array\r\n",
        "tuples = textacy.extract.subject_verb_object_triples(doc)\r\n",
        "list_tuples = list(tuples)\r\n",
        "if list_tuples != []:\r\n",
        "    triplets.append(list_tuples)"
      ],
      "execution_count": 67,
      "outputs": []
    },
    {
      "cell_type": "code",
      "metadata": {
        "colab": {
          "base_uri": "https://localhost:8080/"
        },
        "id": "hEmbu1lytzEh",
        "outputId": "106bef29-293b-4fb6-9c46-d7c173c12476"
      },
      "source": [
        "# Print out the extracted triplets\r\n",
        "for pair in triplets[0]:\r\n",
        "    print(pair)"
      ],
      "execution_count": 68,
      "outputs": [
        {
          "output_type": "stream",
          "text": [
            "(he, earned, degrees)\n",
            "(Obama, defeated, McCain)\n",
            "(President Obama, took, office)\n",
            "(he, faced, challenges)\n",
            "(administration, had begun, to implement)\n",
            "(Republicans, won, control)\n",
            "(president, spent, time)\n",
            "(president, spent, negotiating)\n",
            "(Obama, began, term)\n",
            "(Republicans, won, Senate)\n",
            "(Obama, left, presidency)\n",
            "(He, announced, plans)\n",
            "(daughter, finished, school)\n",
            "(He, devoted, energy)\n"
          ],
          "name": "stdout"
        }
      ]
    },
    {
      "cell_type": "markdown",
      "metadata": {
        "id": "2Mju8gcatzLd"
      },
      "source": [
        "## Text 3"
      ]
    },
    {
      "cell_type": "code",
      "metadata": {
        "id": "fXQCOrJetzLd"
      },
      "source": [
        "# Read in the third input file\r\n",
        "txt = open('abstract3.txt', 'r')\r\n",
        "\r\n",
        "#Load spaCy and close the reader\r\n",
        "nlp = spacy.load(\"en_core_web_sm\")\r\n",
        "doc = nlp(txt.read())\r\n",
        "txt.close()"
      ],
      "execution_count": 63,
      "outputs": []
    },
    {
      "cell_type": "code",
      "metadata": {
        "id": "97-9UTWrtzLd"
      },
      "source": [
        "# Create empty array to store the tuples in\r\n",
        "triplets = []\r\n",
        "\r\n",
        "# Use textaCy to find and extract triplets from the text and store it in the array\r\n",
        "tuples = textacy.extract.subject_verb_object_triples(doc)\r\n",
        "list_tuples = list(tuples)\r\n",
        "if list_tuples != []:\r\n",
        "    triplets.append(list_tuples)"
      ],
      "execution_count": 64,
      "outputs": []
    },
    {
      "cell_type": "code",
      "metadata": {
        "colab": {
          "base_uri": "https://localhost:8080/"
        },
        "id": "EpiSUos3tzLe",
        "outputId": "00c8ef12-5585-4e6b-88e5-b3ed757592ac"
      },
      "source": [
        "# Print out the extracted triplets\r\n",
        "for pair in triplets[0]:\r\n",
        "    print(pair)"
      ],
      "execution_count": 65,
      "outputs": [
        {
          "output_type": "stream",
          "text": [
            "(coronavirus disease, was declared, health emergency)\n",
            "(COVID-19, garnered, research interest)\n",
            "(We, searched, databases)\n",
            "(findings, benefit, frontline health professionals)\n",
            "(findings, benefit, policy makers)\n",
            "(statement, encouraged, researchers)\n",
            "(statement, encouraged, to focus)\n",
            "(statement, encouraged, to publish)\n",
            "(emphasis, helps, to facilitate)\n",
            "(research community, will make, efforts)\n",
            "(dissemination, will accomplish, goals)\n",
            "(who, need, to understand)\n",
            "(strategy, will improve, control strategies)\n",
            "(We, declare, interests)\n"
          ],
          "name": "stdout"
        }
      ]
    }
  ]
}